{
  "nbformat": 4,
  "nbformat_minor": 0,
  "metadata": {
    "colab": {
      "provenance": [],
      "mount_file_id": "1aj-uB0ns35CEvNCiuU7gp0a2Pp7P8-wQ",
      "authorship_tag": "ABX9TyPXUIhSBCxf/jS9nlboUogi",
      "include_colab_link": true
    },
    "kernelspec": {
      "name": "python3",
      "display_name": "Python 3"
    },
    "language_info": {
      "name": "python"
    }
  },
  "cells": [
    {
      "cell_type": "markdown",
      "metadata": {
        "id": "view-in-github",
        "colab_type": "text"
      },
      "source": [
        "<a href=\"https://colab.research.google.com/github/jaysmehta208/Maps-For-Foodies/blob/main/Maps_For_Foodies.ipynb\" target=\"_parent\"><img src=\"https://colab.research.google.com/assets/colab-badge.svg\" alt=\"Open In Colab\"/></a>"
      ]
    },
    {
      "cell_type": "markdown",
      "source": [
        "Removed API keys from the project. Please use your own API keys!"
      ],
      "metadata": {
        "id": "cUHbC0Daa2An"
      }
    },
    {
      "cell_type": "markdown",
      "source": [
        "# **Food Truck Weekend**"
      ],
      "metadata": {
        "id": "Hl2DvY8W7BIZ"
      }
    },
    {
      "cell_type": "code",
      "source": [
        "!pip install requests pandas\n",
        "!pip install matplotlib\n",
        "!pip install folium\n",
        "!pip install googlemaps\n",
        "!pip install gmplot"
      ],
      "metadata": {
        "colab": {
          "base_uri": "https://localhost:8080/"
        },
        "id": "BVLsaGG4oLAB",
        "outputId": "3b5bce09-5c40-4f3d-dd6d-fcb51c2b6179"
      },
      "execution_count": null,
      "outputs": [
        {
          "output_type": "stream",
          "name": "stdout",
          "text": [
            "Requirement already satisfied: requests in /usr/local/lib/python3.10/dist-packages (2.31.0)\n",
            "Requirement already satisfied: pandas in /usr/local/lib/python3.10/dist-packages (1.5.3)\n",
            "Requirement already satisfied: charset-normalizer<4,>=2 in /usr/local/lib/python3.10/dist-packages (from requests) (3.3.0)\n",
            "Requirement already satisfied: idna<4,>=2.5 in /usr/local/lib/python3.10/dist-packages (from requests) (3.4)\n",
            "Requirement already satisfied: urllib3<3,>=1.21.1 in /usr/local/lib/python3.10/dist-packages (from requests) (2.0.6)\n",
            "Requirement already satisfied: certifi>=2017.4.17 in /usr/local/lib/python3.10/dist-packages (from requests) (2023.7.22)\n",
            "Requirement already satisfied: python-dateutil>=2.8.1 in /usr/local/lib/python3.10/dist-packages (from pandas) (2.8.2)\n",
            "Requirement already satisfied: pytz>=2020.1 in /usr/local/lib/python3.10/dist-packages (from pandas) (2023.3.post1)\n",
            "Requirement already satisfied: numpy>=1.21.0 in /usr/local/lib/python3.10/dist-packages (from pandas) (1.23.5)\n",
            "Requirement already satisfied: six>=1.5 in /usr/local/lib/python3.10/dist-packages (from python-dateutil>=2.8.1->pandas) (1.16.0)\n",
            "Requirement already satisfied: matplotlib in /usr/local/lib/python3.10/dist-packages (3.7.1)\n",
            "Requirement already satisfied: contourpy>=1.0.1 in /usr/local/lib/python3.10/dist-packages (from matplotlib) (1.1.1)\n",
            "Requirement already satisfied: cycler>=0.10 in /usr/local/lib/python3.10/dist-packages (from matplotlib) (0.12.1)\n",
            "Requirement already satisfied: fonttools>=4.22.0 in /usr/local/lib/python3.10/dist-packages (from matplotlib) (4.43.1)\n",
            "Requirement already satisfied: kiwisolver>=1.0.1 in /usr/local/lib/python3.10/dist-packages (from matplotlib) (1.4.5)\n",
            "Requirement already satisfied: numpy>=1.20 in /usr/local/lib/python3.10/dist-packages (from matplotlib) (1.23.5)\n",
            "Requirement already satisfied: packaging>=20.0 in /usr/local/lib/python3.10/dist-packages (from matplotlib) (23.2)\n",
            "Requirement already satisfied: pillow>=6.2.0 in /usr/local/lib/python3.10/dist-packages (from matplotlib) (9.4.0)\n",
            "Requirement already satisfied: pyparsing>=2.3.1 in /usr/local/lib/python3.10/dist-packages (from matplotlib) (3.1.1)\n",
            "Requirement already satisfied: python-dateutil>=2.7 in /usr/local/lib/python3.10/dist-packages (from matplotlib) (2.8.2)\n",
            "Requirement already satisfied: six>=1.5 in /usr/local/lib/python3.10/dist-packages (from python-dateutil>=2.7->matplotlib) (1.16.0)\n",
            "Requirement already satisfied: folium in /usr/local/lib/python3.10/dist-packages (0.14.0)\n",
            "Requirement already satisfied: branca>=0.6.0 in /usr/local/lib/python3.10/dist-packages (from folium) (0.6.0)\n",
            "Requirement already satisfied: jinja2>=2.9 in /usr/local/lib/python3.10/dist-packages (from folium) (3.1.2)\n",
            "Requirement already satisfied: numpy in /usr/local/lib/python3.10/dist-packages (from folium) (1.23.5)\n",
            "Requirement already satisfied: requests in /usr/local/lib/python3.10/dist-packages (from folium) (2.31.0)\n",
            "Requirement already satisfied: MarkupSafe>=2.0 in /usr/local/lib/python3.10/dist-packages (from jinja2>=2.9->folium) (2.1.3)\n",
            "Requirement already satisfied: charset-normalizer<4,>=2 in /usr/local/lib/python3.10/dist-packages (from requests->folium) (3.3.0)\n",
            "Requirement already satisfied: idna<4,>=2.5 in /usr/local/lib/python3.10/dist-packages (from requests->folium) (3.4)\n",
            "Requirement already satisfied: urllib3<3,>=1.21.1 in /usr/local/lib/python3.10/dist-packages (from requests->folium) (2.0.6)\n",
            "Requirement already satisfied: certifi>=2017.4.17 in /usr/local/lib/python3.10/dist-packages (from requests->folium) (2023.7.22)\n",
            "Collecting googlemaps\n",
            "  Downloading googlemaps-4.10.0.tar.gz (33 kB)\n",
            "  Preparing metadata (setup.py) ... \u001b[?25l\u001b[?25hdone\n",
            "Requirement already satisfied: requests<3.0,>=2.20.0 in /usr/local/lib/python3.10/dist-packages (from googlemaps) (2.31.0)\n",
            "Requirement already satisfied: charset-normalizer<4,>=2 in /usr/local/lib/python3.10/dist-packages (from requests<3.0,>=2.20.0->googlemaps) (3.3.0)\n",
            "Requirement already satisfied: idna<4,>=2.5 in /usr/local/lib/python3.10/dist-packages (from requests<3.0,>=2.20.0->googlemaps) (3.4)\n",
            "Requirement already satisfied: urllib3<3,>=1.21.1 in /usr/local/lib/python3.10/dist-packages (from requests<3.0,>=2.20.0->googlemaps) (2.0.6)\n",
            "Requirement already satisfied: certifi>=2017.4.17 in /usr/local/lib/python3.10/dist-packages (from requests<3.0,>=2.20.0->googlemaps) (2023.7.22)\n",
            "Building wheels for collected packages: googlemaps\n",
            "  Building wheel for googlemaps (setup.py) ... \u001b[?25l\u001b[?25hdone\n",
            "  Created wheel for googlemaps: filename=googlemaps-4.10.0-py3-none-any.whl size=40713 sha256=b59501984d1078fdc3a60ca161429e11cb1e8be4bec0f68c402a9e425fdaa5d6\n",
            "  Stored in directory: /root/.cache/pip/wheels/17/f8/79/999d5d37118fd35d7219ef57933eb9d09886c4c4503a800f84\n",
            "Successfully built googlemaps\n",
            "Installing collected packages: googlemaps\n",
            "Successfully installed googlemaps-4.10.0\n"
          ]
        }
      ]
    },
    {
      "cell_type": "code",
      "source": [
        "import requests\n",
        "import pandas as pd\n",
        "import csv\n",
        "import numpy as np\n",
        "import matplotlib.pyplot as plt\n",
        "import folium\n",
        "import googlemaps\n",
        "from datetime import datetime\n",
        "import gmplot"
      ],
      "metadata": {
        "id": "TF8xanA_dm6t"
      },
      "execution_count": null,
      "outputs": []
    },
    {
      "cell_type": "markdown",
      "source": [
        "# Extraction of Data"
      ],
      "metadata": {
        "id": "h6nvcRXrKMUs"
      }
    },
    {
      "cell_type": "code",
      "source": [
        "# Define API key and initial parameters\n",
        "api_key = \"Yelp API key\"\n",
        "location = \"Indiana\"\n",
        "search_term = \"food truck\"\n",
        "category = \"foodtrucks\"\n",
        "results = []\n",
        "\n",
        "offset = 0  # Initial offset\n",
        "limit = 50  # Number of results per page\n",
        "\n",
        "while True:\n",
        "    # Set the offset in the search parameters\n",
        "    search_params = {\n",
        "        \"term\": search_term,\n",
        "        \"location\": location,\n",
        "        \"categories\": category,\n",
        "        \"limit\": limit,\n",
        "        \"offset\": offset\n",
        "    }\n",
        "\n",
        "    # Make the API request\n",
        "    response = requests.get(\n",
        "        \"https://api.yelp.com/v3/businesses/search\",\n",
        "        params=search_params,\n",
        "        headers={\"Authorization\": f\"Bearer {api_key}\"}\n",
        "    )\n",
        "\n",
        "    if response.status_code == 200:\n",
        "        data = response.json()\n",
        "        businesses = data.get(\"businesses\", [])\n",
        "\n",
        "        # Append the results to the list\n",
        "        results.extend(businesses)\n",
        "\n",
        "        # Check if there are more results to fetch\n",
        "        if len(businesses) < limit:\n",
        "            break\n",
        "        else:\n",
        "            offset += limit\n",
        "    else:\n",
        "        print(\"Error: Unable to fetch data from Yelp Fusion API\")\n",
        "        break\n",
        "\n",
        "print(\"Successfully found all food trucks in Indiana\")"
      ],
      "metadata": {
        "colab": {
          "base_uri": "https://localhost:8080/"
        },
        "id": "3tVLG75bdvUW",
        "outputId": "c38fe765-0ea4-4e88-8819-7bcbb47b5323"
      },
      "execution_count": null,
      "outputs": [
        {
          "output_type": "stream",
          "name": "stdout",
          "text": [
            "Successfully found all food trucks in Indiana\n"
          ]
        }
      ]
    },
    {
      "cell_type": "markdown",
      "source": [
        "The code above uses the Yelp API to find all the food trucks in Indiana"
      ],
      "metadata": {
        "id": "KWSfovMZGg99"
      }
    },
    {
      "cell_type": "code",
      "source": [
        "# getting the ids of the businesses\n",
        "business_ids = []\n",
        "for business in results:\n",
        "  business_ids.append(business['id'])\n",
        "\n",
        "# stores relevant information needed like name, address, rating, website, hours of operation, cuisine, coordinates\n",
        "business_details = []\n",
        "\n",
        "# for each business id, getting all the relevant details\n",
        "for business_id in business_ids:\n",
        "    details_url = f\"https://api.yelp.com/v3/businesses/{business_id}\"\n",
        "    headers = {\"Authorization\": f\"Bearer {api_key}\"}\n",
        "    response = requests.get(details_url, headers=headers)\n",
        "\n",
        "    if response.status_code == 200:\n",
        "        business_data = response.json()\n",
        "\n",
        "        # More than one cuisine could exist for each food truck\n",
        "        categories = [category[\"title\"] for category in business_data.get(\"categories\", [])]\n",
        "\n",
        "        # The address includes the street, city and state\n",
        "        address = \", \".join(business_data[\"location\"][\"display_address\"])\n",
        "\n",
        "        # Extract latitude and longitude\n",
        "        latitude = business_data[\"coordinates\"][\"latitude\"]\n",
        "        longitude = business_data[\"coordinates\"][\"longitude\"]\n",
        "\n",
        "        business_details.append({\n",
        "            \"Name\": business_data[\"name\"],\n",
        "            \"Address\": address,\n",
        "            \"Rating\": business_data[\"rating\"],\n",
        "            \"Website\": business_data.get(\"url\"),\n",
        "            \"Hours\": business_data.get(\"hours\"),\n",
        "            \"Cuisine\": \", \".join(categories),\n",
        "            \"Latitude\": latitude,\n",
        "            \"Longitude\": longitude\n",
        "        })\n",
        "    else:\n",
        "        print(f\"Error fetching details for business ID {business_id}\")\n",
        "\n",
        "print(\"Succesfully fetched all required information about each business\")"
      ],
      "metadata": {
        "colab": {
          "base_uri": "https://localhost:8080/"
        },
        "id": "kfOGOxVody-m",
        "outputId": "12364627-38fe-4c05-8a6a-e584b4cfc1a2"
      },
      "execution_count": null,
      "outputs": [
        {
          "output_type": "stream",
          "name": "stdout",
          "text": [
            "Succesfully fetched all required information about each business\n"
          ]
        }
      ]
    },
    {
      "cell_type": "markdown",
      "source": [
        "The above code extracts the business ids for each food truck and calls another Yelp API using these ids to get all the information required about the the food trucks. This includes Name, Address, Rating, Website, Hours, Cuisine, Latitude and Longitude.\n",
        "\n"
      ],
      "metadata": {
        "id": "mI7b07DTHqiA"
      }
    },
    {
      "cell_type": "code",
      "source": [
        "# formatting the time to see the open timings in 12 hour fromat with AM/PM\n",
        "def formatHours(start, end):\n",
        "  time_string = \"\"\n",
        "\n",
        "  # Checking if starting time is before 12 PM or after\n",
        "  if (int(start[0:2]) < 12 ):\n",
        "    time_string = start[0:2] +\":\" + start[2:4]+ \" AM - \"\n",
        "  elif (int(start[0:2]) >= 12 ):\n",
        "    #Converting from 24 hour format to 12 hour format\n",
        "    if (int(start[0:2]) >= 13):\n",
        "      time_string = str(int(start[0:2]) - 12) +\":\" + start[2:4]+ \" PM - \"\n",
        "    else:\n",
        "      time_string = start[0:2] +\":\" + start[2:4]+ \" PM - \"\n",
        "\n",
        "  # Checking if ending time is before 12 PM or after\n",
        "  if (int(end[0:2]) < 12 ):\n",
        "    time_string += end[0:2] +\":\" + end[2:4]+ \" AM\"\n",
        "  elif (int(end[0:2]) >= 12 ):\n",
        "    #Converting from 24 hour format to 12 hour format\n",
        "    if (int(end[0:2]) >= 13):\n",
        "      time_string += str(int(end[0:2]) - 12) +\":\" + end[2:4]+ \" PM\"\n",
        "    else:\n",
        "      time_string += end[0:2] +\":\" + end[2:4]+ \" PM\"\n",
        "\n",
        "  return time_string"
      ],
      "metadata": {
        "id": "iStpbiI8Lhjb"
      },
      "execution_count": null,
      "outputs": []
    },
    {
      "cell_type": "code",
      "source": [
        "# extracting the time for Saturday and Sunday and formatting it accordingly\n",
        "for business in business_details:\n",
        "\n",
        "  # If  there is data about timings on all days, but Saturday or Sunday is not present in those days, the food\n",
        "  # truck is closed on that day\n",
        "  saturday_hours = \"Closed\"\n",
        "  sunday_hours = \"Closed\"\n",
        "\n",
        "  # If no data about timings on any days, entry is \"Null\"\n",
        "  if (business['Hours'] == None) :\n",
        "    saturday_hours = \"Null\"\n",
        "    sunday_hours = \"Null\"\n",
        "\n",
        "  # extracting and formatting the timings on Saturday and Sunday if available\n",
        "  else:\n",
        "    for day in business['Hours'][0]['open']:\n",
        "      if (day['day'] == 5):\n",
        "        saturday_hours = formatHours(day['start'], day['end'])\n",
        "      if (day['day'] == 6):\n",
        "        sunday_hours = formatHours(day['start'], day['end'])\n",
        "\n",
        "  # stroing these timings in the business details\n",
        "  business['Saturday_Hours'] = saturday_hours\n",
        "  business['Sunday_Hours'] = sunday_hours\n",
        "\n",
        "  # Deleting redundant detail for each variable from list\n",
        "  del business['Hours']\n",
        "\n",
        "print(\"Timings for the weekend are formatted and stored\")"
      ],
      "metadata": {
        "colab": {
          "base_uri": "https://localhost:8080/"
        },
        "id": "mVF4WJ1R71Be",
        "outputId": "95f9e1bc-a207-4e3c-aac6-e98175ac0ebf"
      },
      "execution_count": null,
      "outputs": [
        {
          "output_type": "stream",
          "name": "stdout",
          "text": [
            "Timings for the weekend are formatted and stored\n"
          ]
        }
      ]
    },
    {
      "cell_type": "markdown",
      "source": [
        "We format the timings for Saturday and Sunday and store them in two additional elements for each food truck. \"Closed\" is stored as the value of the element for a particular day if it is not open on that day. If no information is provided about timings of the food truck, then the element stored is \"Null\"."
      ],
      "metadata": {
        "id": "t8bL01IJIPro"
      }
    },
    {
      "cell_type": "code",
      "source": [
        "# Cleaning data\n",
        "df = pd.DataFrame(business_details)\n",
        "\n",
        "# Drop rows where \"Saturday Hours\" and \"Sunday Hours\" are \"Null\"\n",
        "df = df[(df[\"Saturday_Hours\"] != \"Null\") & (df[\"Sunday_Hours\"] != \"Null\")]\n",
        "\n",
        "# Drop columns where both \"Saturday Hours\" and \"Sunday Hours\" are \"Closed\"\n",
        "df = df.drop(df[(df[\"Saturday_Hours\"] == \"Closed\") & (df[\"Sunday_Hours\"] == \"Closed\")].index, axis=0)\n",
        "\n",
        "# Remove \"Food Trucks\" from each list of values and strip whitespace\n",
        "df[\"Cuisine\"] = df[\"Cuisine\"].str.split(',')\n",
        "df[\"Cuisine\"] = df[\"Cuisine\"].apply(lambda x: [value.strip() for value in x if \"Food Trucks\" not in value])\n",
        "\n",
        "# Drop rows where there are no cuisine values left\n",
        "df = df[df[\"Cuisine\"].apply(len) > 0]\n",
        "\n",
        "# Select main cuisine for each restaurant\n",
        "df[\"Cuisine\"] = df[\"Cuisine\"].apply(lambda x: x[0])\n",
        "\n",
        "# Reset the index\n",
        "df = df.reset_index(drop=True)\n",
        "\n",
        "print(\"Data has been cleaned\")"
      ],
      "metadata": {
        "colab": {
          "base_uri": "https://localhost:8080/"
        },
        "id": "miF3mhRdKsw1",
        "outputId": "14d00967-fe82-46c4-8a97-40e5ff57773b"
      },
      "execution_count": null,
      "outputs": [
        {
          "output_type": "stream",
          "name": "stdout",
          "text": [
            "Data has been cleaned\n"
          ]
        }
      ]
    },
    {
      "cell_type": "markdown",
      "source": [
        "We convert the data into a dataframe. Then, the dataframe is cleaned by dropping all rows where open timings are \"Null\". Additionally, rows with food trucks closed on both days of the weekend are dropped as well. This is because we want to make a weekend-plan to visit food trucks, so those that are not open during that time do not need to be considered for the plan."
      ],
      "metadata": {
        "id": "3WQrJTX3I9cn"
      }
    },
    {
      "cell_type": "code",
      "source": [
        "# Specify the CSV file path where you want to save the DataFrame\n",
        "csv_file_path = \"business_details_cleaned.csv\"\n",
        "\n",
        "# Save the DataFrame to a CSV file\n",
        "df.to_csv(csv_file_path, index=False)  # Use index=False to exclude the index column\n",
        "\n",
        "print(f\"DataFrame saved to {csv_file_path}\")"
      ],
      "metadata": {
        "colab": {
          "base_uri": "https://localhost:8080/"
        },
        "id": "tdYbg_C41cAn",
        "outputId": "da623683-529f-4a7b-cb74-dd54fc27ab13"
      },
      "execution_count": null,
      "outputs": [
        {
          "output_type": "stream",
          "name": "stdout",
          "text": [
            "DataFrame saved to business_details_cleaned.csv\n"
          ]
        }
      ]
    },
    {
      "cell_type": "markdown",
      "source": [
        "**business_details_cleaned.csv has the required basic information**"
      ],
      "metadata": {
        "id": "HV55M_KXMIiB"
      }
    },
    {
      "cell_type": "markdown",
      "source": [
        "# Exploratory Data Analysis"
      ],
      "metadata": {
        "id": "NkEf1RG-KpSM"
      }
    },
    {
      "cell_type": "markdown",
      "source": [
        "## Basic Statistics"
      ],
      "metadata": {
        "id": "QjwuiIEGMlc4"
      }
    },
    {
      "cell_type": "code",
      "source": [
        "ratings = df['Rating']\n",
        "mean = np.mean(ratings)\n",
        "median = np.median(ratings)\n",
        "std_dev = np.std(ratings)\n",
        "print(\"Mean = %.2f\"%mean)\n",
        "print(\"Median =\", median)\n",
        "print(\"Standard Deviation = %.2f\"% std_dev)"
      ],
      "metadata": {
        "colab": {
          "base_uri": "https://localhost:8080/"
        },
        "id": "IcGXY5HN7w5k",
        "outputId": "4e824d79-ff48-4868-9acd-541af175cffe"
      },
      "execution_count": null,
      "outputs": [
        {
          "output_type": "stream",
          "name": "stdout",
          "text": [
            "Mean = 4.38\n",
            "Median = 4.5\n",
            "Standard Deviation = 0.62\n"
          ]
        }
      ]
    },
    {
      "cell_type": "code",
      "source": [
        "# Visualising the distribution of ratings with a bar graph\n",
        "\n",
        "# Count the frequency of each rating\n",
        "rating_counts = {}\n",
        "for rating in ratings:\n",
        "    if rating in rating_counts:\n",
        "        rating_counts[rating] += 1\n",
        "    else:\n",
        "        rating_counts[rating] = 1\n",
        "\n",
        "# Sorting the ratings\n",
        "ratings_list = sorted(list(rating_counts.keys()))\n",
        "\n",
        "# Extracting the counts in the same order as the sorted ratings\n",
        "counts = [rating_counts[rating] for rating in ratings_list]\n",
        "\n",
        "# Creating a bar graph\n",
        "plt.bar(ratings_list, counts, edgecolor='black', width=0.3)\n",
        "\n",
        "# Add labels and a title\n",
        "plt.xlabel('Rating')\n",
        "plt.ylabel('Frequency')\n",
        "plt.title('Ratings Bar Graph')\n",
        "\n",
        "# Annotate each bar with its count\n",
        "for rating, count in zip(ratings_list, counts):\n",
        "    plt.text(rating, count, str(count), ha='center', va='bottom')\n",
        "\n",
        "# Displaying the bar graph\n",
        "plt.show()\n"
      ],
      "metadata": {
        "colab": {
          "base_uri": "https://localhost:8080/",
          "height": 472
        },
        "id": "Oc1GEHjp-IDZ",
        "outputId": "9fc8d13f-c2d3-43fb-c2b8-98d124fb2c9c"
      },
      "execution_count": null,
      "outputs": [
        {
          "output_type": "display_data",
          "data": {
            "text/plain": [
              "<Figure size 640x480 with 1 Axes>"
            ],
            "image/png": "[encoded data removed]"
          },
          "metadata": {}
        }
      ]
    },
    {
      "cell_type": "markdown",
      "source": [
        "With the median > mean, the data is only slightly skewed to the left. This means that there are not too many extremely low ratings to skew the data too much to the left. A low standard deviation indicates that most of the ratings lie around the mean and are similar. Indiana food truck customers tend to be satisfied with their experience, and rate the outlet with a rating of 4, 4.5 or 5 usually. All these conclusions are supported by the bar graph as well. As can be seen, the bars for 4, 4.5 and 5 are much longer than the ones before.The level of satisfaction cannot be completely guaged as this would require us to normalize the finding by comparing the mean rating to those of other types of restaurants. This would tell us whether customers tend to rate restaurants with ratings in 4-5 or whether food trucks just have better quality and hence are consistenly rated in 4-5.\n",
        "\n",
        "This analysis helps us decide that we would like to stick with food trucks that are rated 4 and above (Will be done later)."
      ],
      "metadata": {
        "id": "GiptFD3j6CxT"
      }
    },
    {
      "cell_type": "markdown",
      "source": [
        "## Cuisine and Rating"
      ],
      "metadata": {
        "id": "eR6sSK8xNMKc"
      }
    },
    {
      "cell_type": "code",
      "source": [
        "# Grouping and aggregation\n",
        "\n",
        "# Group food trucks by cuisine and compute the average rating\n",
        "cuisine_ratings = df.groupby('Cuisine')['Rating'].mean().reset_index()\n",
        "\n",
        "# Sort the cuisines by average rating in descending order\n",
        "cuisine_ratings = cuisine_ratings.sort_values(by='Rating', ascending=False)\n",
        "\n",
        "# Create a bar plot to visualize the average ratings\n",
        "plt.figure(figsize=(10, 6))\n",
        "plt.barh(cuisine_ratings['Cuisine'], cuisine_ratings['Rating'], color='skyblue')\n",
        "plt.xlabel('Average Rating')\n",
        "plt.ylabel('Cuisine')\n",
        "plt.title('Average Ratings by Cuisine')\n",
        "plt.gca().invert_yaxis()  # Invert the y-axis for higher ratings at the top\n",
        "\n",
        "plt.show()\n"
      ],
      "metadata": {
        "colab": {
          "base_uri": "https://localhost:8080/",
          "height": 564
        },
        "id": "BI4kxF2M_-1o",
        "outputId": "eb26ca0d-920f-45f7-d07d-f512220a7fc8"
      },
      "execution_count": null,
      "outputs": [
        {
          "output_type": "display_data",
          "data": {
            "text/plain": [
              "<Figure size 1000x600 with 1 Axes>"
            ],
            "image/png": "[encoded data removed]"
          },
          "metadata": {}
        }
      ]
    },
    {
      "cell_type": "markdown",
      "source": [
        "We see that the highest average rated food trucks are the ones that serve cuisines like Venezuelan and Asian Fusion. Customers also tend to rate food trucks serving American cuisine lower in comparison to other cuisines, although the ratings are quite high for these food trucks as well. Tacos, Kebabs and Mexican are some of the cuisines highly rated as well but in the middle in comparison to the two sets of cuisines we looked at before. This analysis helps us decide which cuisines to try on our weekend trip."
      ],
      "metadata": {
        "id": "YiTmUOehJH6H"
      }
    },
    {
      "cell_type": "markdown",
      "source": [
        "## Location"
      ],
      "metadata": {
        "id": "U33h1LmkSEQK"
      }
    },
    {
      "cell_type": "code",
      "source": [
        "# Calculate the average latitude and longitude\n",
        "average_latitude = df['Latitude'].mean()\n",
        "average_longitude = df['Longitude'].mean()\n",
        "\n",
        "# Create a map centered at the average location\n",
        "m = folium.Map(location=[average_latitude, average_longitude], zoom_start=10)\n",
        "\n",
        "# Adding markers\n",
        "for index, row in df.iterrows():\n",
        "    folium.Marker([row['Latitude'], row['Longitude']]).add_to(m)\n",
        "\n",
        "# Display the map\n",
        "m.save('food_truck_map.html')  # Save the map as an HTML file\n",
        "# NOTE : To open the html file, please download it, and then click on downloaded file to open in browser"
      ],
      "metadata": {
        "id": "JBVv49RsALFZ"
      },
      "execution_count": null,
      "outputs": []
    },
    {
      "cell_type": "markdown",
      "source": [
        "The generated map: https://drive.google.com/file/d/17G3WfopgCS86XGOp0aiiYg4fQNqW_mtC/view?usp=sharing\n",
        "\n",
        "Zoomed in view of same map: https://drive.google.com/file/d/1LcuvHnDQILVCSOo-NjlxVigIQ3KcD-7T/view?usp=sharing"
      ],
      "metadata": {
        "id": "FR5xlxywcLzh"
      }
    },
    {
      "cell_type": "markdown",
      "source": [
        "The map shows us that a large number of food trucks are present around Indianapolis. There are only a few food trucks in cities like Lafayette and Bloomington.  From this map, we can conclude that to save on travel time and cost, our weekend plan should involve travelling to food trucks in the Indianapolis area."
      ],
      "metadata": {
        "id": "QUR3oa_EZoxH"
      }
    },
    {
      "cell_type": "code",
      "source": [
        "# Adding markers with name of food truck\n",
        "for index, row in df.iterrows():\n",
        "    folium.Marker(\n",
        "        location=[row['Latitude'], row['Longitude']],\n",
        "        icon=folium.DivIcon(html=f\"<div>{row['Name']}</div>\")\n",
        "    ).add_to(m)\n",
        "\n",
        "# Display the map\n",
        "m.save('food_truck_with_names_map.html')  # Save the map as an HTML file"
      ],
      "metadata": {
        "id": "m8JOO3ggQgwJ"
      },
      "execution_count": null,
      "outputs": []
    },
    {
      "cell_type": "markdown",
      "source": [
        "I will be using this map with names of the food trucks provided to help me with my analysis."
      ],
      "metadata": {
        "id": "_MSOB2PMgmK7"
      }
    },
    {
      "cell_type": "markdown",
      "source": [
        "# Planning Weekend"
      ],
      "metadata": {
        "id": "qGzUVoxYiwtt"
      }
    },
    {
      "cell_type": "markdown",
      "source": [
        "## Deciding final list"
      ],
      "metadata": {
        "id": "TnUeTc6ljb9M"
      }
    },
    {
      "cell_type": "code",
      "source": [
        "API_KEY = \"Google Maps API Kay\"\n",
        "gmaps = googlemaps.Client(API_KEY)"
      ],
      "metadata": {
        "id": "NMP4OEGoRivr"
      },
      "execution_count": null,
      "outputs": []
    },
    {
      "cell_type": "code",
      "source": [
        "# The two cities\n",
        "city1 = \"Indianapolis, IN\"\n",
        "city2 = \"Carmel, IN\"\n",
        "\n",
        "# Geocoding the city names to get their coordinates\n",
        "geocode_result1 = gmaps.geocode(city1)\n",
        "geocode_result2 = gmaps.geocode(city2)\n",
        "\n",
        "# Extracting latitude and longitude from the geocoding results\n",
        "latitude1 = geocode_result1[0]['geometry']['location']['lat']\n",
        "longitude1 = geocode_result1[0]['geometry']['location']['lng']\n",
        "\n",
        "latitude2 = geocode_result2[0]['geometry']['location']['lat']\n",
        "longitude2 = geocode_result2[0]['geometry']['location']['lng']\n",
        "\n",
        "# Calculating the distance\n",
        "result = gmaps.distance_matrix((latitude1, longitude1), (latitude2, longitude2), mode='driving', departure_time=datetime.now())\n",
        "distance_in_meters = result['rows'][0]['elements'][0]['distance']['value']\n",
        "\n",
        "# Convert the distance from meters to miles\n",
        "distance_in_miles = distance_in_meters * 0.000621371\n",
        "\n",
        "print(f\"The road distance between {city1} and {city2} is approximately {distance_in_miles} miles.\")"
      ],
      "metadata": {
        "colab": {
          "base_uri": "https://localhost:8080/"
        },
        "id": "vvF1eSIyT9QY",
        "outputId": "b043556f-e4d1-4e10-e748-62dcdb116600"
      },
      "execution_count": null,
      "outputs": [
        {
          "output_type": "stream",
          "name": "stdout",
          "text": [
            "The road distance between Indianapolis, IN and Carmel, IN is approximately 16.064304463 miles.\n"
          ]
        }
      ]
    },
    {
      "cell_type": "code",
      "source": [
        "\"Looking at my maps, I see that most of the food trucks are close to Indianapolis. Therefore I select a radius equal to distance from Indianapolis to Carmel BY ROAD to search for the best food trucks. This distance is around \" + str(distance_in_miles) + \"miles. Therefore I am making sure that my passengers do not have to travel more than \" + str(3*distance_in_miles) + \"miles for food between locations.\""
      ],
      "metadata": {
        "colab": {
          "base_uri": "https://localhost:8080/",
          "height": 74
        },
        "id": "p_QEw6vkT35G",
        "outputId": "3ec701a1-8a53-4e12-814b-1b5c916f8881"
      },
      "execution_count": null,
      "outputs": [
        {
          "output_type": "execute_result",
          "data": {
            "text/plain": [
              "'Looking at my maps, I see that most of the food trucks are close to Indianapolis. Therefore I select a radius equal to distance from Indianapolis to Carmel BY ROAD to search for the best food trucks. This distance is around 16.064304463miles. Therefore I am making sure that my passengers do not have to travel more than 48.192913389miles for food between locations.'"
            ],
            "application/vnd.google.colaboratory.intrinsic+json": {
              "type": "string"
            }
          },
          "metadata": {},
          "execution_count": 25
        }
      ]
    },
    {
      "cell_type": "markdown",
      "source": [
        "I will also use this location of Indianapolis that I just found in terms of longitude and latitude as the starting point everyday when the team begins their food expedition.\n",
        "\n"
      ],
      "metadata": {
        "id": "7pJC2G_zi2Fo"
      }
    },
    {
      "cell_type": "code",
      "source": [
        "print(\"coordinates of Indiana\")\n",
        "print(\"Latitude: \", latitude1)\n",
        "print(\"Longitude :\", longitude1)"
      ],
      "metadata": {
        "colab": {
          "base_uri": "https://localhost:8080/"
        },
        "id": "K7R-zuTCrOL0",
        "outputId": "b1d6fe9d-8539-496b-b7df-a855406315bb"
      },
      "execution_count": null,
      "outputs": [
        {
          "output_type": "stream",
          "name": "stdout",
          "text": [
            "coordinates of Indiana\n",
            "Latitude:  39.768403\n",
            "Longitude : -86.158068\n"
          ]
        }
      ]
    },
    {
      "cell_type": "code",
      "source": [
        "latitude_start = latitude1\n",
        "longitude_start = longitude1\n",
        "\n",
        "# Create an empty list to store food trucks within 24 miles\n",
        "food_trucks_within_24_miles = []\n",
        "\n",
        "# Iterate through the original DataFrame to calculate distances\n",
        "for index, row in df.iterrows():\n",
        "    # Calculate the distance in meters\n",
        "    distance = gmaps.distance_matrix((latitude_start, longitude_start),\n",
        "                                     (row['Latitude'], row['Longitude']),\n",
        "                                     mode='driving')['rows'][0]['elements'][0]['distance']['value']\n",
        "\n",
        "    # Convert distance from meters to miles\n",
        "    distance_miles = distance * 0.000621371\n",
        "\n",
        "    if distance_miles <= 24:\n",
        "        food_trucks_within_24_miles.append(row)\n",
        "\n",
        "# Create a new DataFrame with food trucks within 24 miles\n",
        "new_df = pd.DataFrame(food_trucks_within_24_miles)\n"
      ],
      "metadata": {
        "id": "IpYBV1ARwdQf"
      },
      "execution_count": null,
      "outputs": []
    },
    {
      "cell_type": "markdown",
      "source": [
        "I have filtered out all the food trucks not within the distance calculate from Indianapolis. I have made the transportation time as efficient as I could without sacrificing good quality cuisines and food trucks.\n",
        "\n",
        "Now, looking at the Ratings Bar Graph, I see that there are certain food trucks that received bad ratings. I do not want my team to go to these, so I will filter all food trucks that have a rating of less than 4."
      ],
      "metadata": {
        "id": "fJaAY0NEz4OS"
      }
    },
    {
      "cell_type": "code",
      "source": [
        "new_df = new_df[new_df['Rating'] >= 4]"
      ],
      "metadata": {
        "id": "v4r6jLP82xXn"
      },
      "execution_count": null,
      "outputs": []
    },
    {
      "cell_type": "markdown",
      "source": [
        "After optimising transport and maximisig rating, I want to make sure that we do not miss out on food trucks that are only open for one of the two days. So next, we analyse the food trucks with limited open hours."
      ],
      "metadata": {
        "id": "X2gRuroB3PGe"
      }
    },
    {
      "cell_type": "code",
      "source": [
        "# Filter food trucks open only on Saturday\n",
        "saturday_df = new_df[(new_df['Saturday_Hours'] != 'Closed') & (new_df['Sunday_Hours'] == 'Closed')]\n",
        "\n",
        "# Filter food trucks open only on Sunday\n",
        "sunday_df = new_df[(new_df['Saturday_Hours'] == 'Closed') & (new_df['Sunday_Hours'] != 'Closed')]\n",
        "\n",
        "# Filter food trucks open only on both days\n",
        "both_days_df = new_df[(new_df['Saturday_Hours'] != 'Closed') & (new_df['Sunday_Hours'] != 'Closed')]"
      ],
      "metadata": {
        "id": "QYkBvmcwrOOJ"
      },
      "execution_count": null,
      "outputs": []
    },
    {
      "cell_type": "markdown",
      "source": [
        "After creating three dataframes based on when the food trucks are open, we sort the dataframes by rating and then pick one food truck for each distinct cuisine. In this way, we get the best rated food trucks for distinct and popular cuisines that are all close to each other."
      ],
      "metadata": {
        "id": "j_DscCTp8cfZ"
      }
    },
    {
      "cell_type": "code",
      "source": [
        "# Sort the DataFrame by the 'Rating' column in descending order (highest rating first)\n",
        "final_saturday_choices = saturday_df.sort_values(by='Rating', ascending=False)\n",
        "# Drop duplicates in the 'Cuisine' column, keeping only the first occurrence (highest rated cuisine)\n",
        "final_saturday_choices  = final_saturday_choices .drop_duplicates(subset='Cuisine', keep='first')\n",
        "\n",
        "# Sort the DataFrame by the 'Rating' column in descending order (highest rating first)\n",
        "final_sunday_choices = sunday_df.sort_values(by='Rating', ascending=False)\n",
        "# Drop duplicates in the 'Cuisine' column, keeping only the first occurrence (highest rated cuisine)\n",
        "final_sunday_choices  = final_sunday_choices .drop_duplicates(subset='Cuisine', keep='first')\n",
        "\n",
        "# Sort the DataFrame by the 'Rating' column in descending order (highest rating first)\n",
        "final_both_days_choices = both_days_df.sort_values(by='Rating', ascending=False)\n",
        "# Drop duplicates in the 'Cuisine' column, keeping only the first occurrence (highest rated cuisine)\n",
        "final_both_days_choices  = final_both_days_choices .drop_duplicates(subset='Cuisine', keep='first')"
      ],
      "metadata": {
        "id": "_vBEjqTS3zIg"
      },
      "execution_count": null,
      "outputs": []
    },
    {
      "cell_type": "markdown",
      "source": [
        "From these final choices, I will now manually pick the food trucks I want to go to, keeping in mind that I will go to three food trucks on both the days and want to try different cuisines every time I eat."
      ],
      "metadata": {
        "id": "vXMB0Ang9FNU"
      }
    },
    {
      "cell_type": "markdown",
      "source": [
        "Final list of choices :"
      ],
      "metadata": {
        "id": "uDCN-vAS9X31"
      }
    },
    {
      "cell_type": "code",
      "source": [
        "final_saturday_choices = (final_saturday_choices.reset_index(drop = True))\n",
        "food_trucks_to_visit_saturday = final_saturday_choices.iloc[[1,0,7]].reset_index(drop = True)"
      ],
      "metadata": {
        "id": "SleYQ0Ep9p9H"
      },
      "execution_count": null,
      "outputs": []
    },
    {
      "cell_type": "code",
      "source": [
        "final_sunday_choices = final_both_days_choices.reset_index(drop = True)\n",
        "food_trucks_to_visit_sunday = final_sunday_choices.iloc[[7,10,4]].reset_index(drop = True)"
      ],
      "metadata": {
        "id": "884fSJqN9yg6"
      },
      "execution_count": null,
      "outputs": []
    },
    {
      "cell_type": "markdown",
      "source": [
        "With our final lists decided. we now need to calculate travel time and travel distance between the food trucks"
      ],
      "metadata": {
        "id": "GV1wKp6MjCXT"
      }
    },
    {
      "cell_type": "markdown",
      "source": [
        "## Distance and duration calculations"
      ],
      "metadata": {
        "id": "lU-8vKE9jzfe"
      }
    },
    {
      "cell_type": "code",
      "source": [
        "def get_distance_and_duration(origin, destination):\n",
        "  # Request travel distance and duration\n",
        "  matrix = gmaps.distance_matrix(origin, destination, mode=\"driving\", departure_time=\"now\")\n",
        "\n",
        "  if matrix[\"status\"] == \"OK\":\n",
        "    distance = matrix[\"rows\"][0][\"elements\"][0][\"distance\"][\"text\"]\n",
        "    duration = matrix[\"rows\"][0][\"elements\"][0][\"duration\"][\"text\"]\n",
        "    return distance, duration\n",
        "  else:\n",
        "    return None, None"
      ],
      "metadata": {
        "id": "NfhvurKDRpwr"
      },
      "execution_count": null,
      "outputs": []
    },
    {
      "cell_type": "markdown",
      "source": [
        "This function allows us to calculate the road distance and road duration taken when traveling between two sets of coordinates"
      ],
      "metadata": {
        "id": "fjfTEFf6j-GP"
      }
    },
    {
      "cell_type": "markdown",
      "source": [
        "Using the above function, we calculate the distance and time taken from our starting point in Indianapolis to the first food truck we are going to visit."
      ],
      "metadata": {
        "id": "hs0UpgNGkIM0"
      }
    },
    {
      "cell_type": "code",
      "source": [
        "firstElementDistance = []\n",
        "secondElementTime = []\n",
        "\n",
        "#first food truck coordinates\n",
        "destination1 = (food_trucks_to_visit_saturday['Latitude'][0], food_trucks_to_visit_saturday['Longitude'][0])\n",
        "\n",
        "# calculations done using the function\n",
        "distance, duration = get_distance_and_duration((latitude_start, longitude_start), destination1)\n",
        "\n",
        "#storing calculations for first set of coordinates to add to dataframe later\n",
        "firstElementDistance.append(distance)\n",
        "secondElementTime.append(duration)"
      ],
      "metadata": {
        "id": "frqjo2doKCcm"
      },
      "execution_count": null,
      "outputs": []
    },
    {
      "cell_type": "code",
      "source": [
        "# Initialize empty lists for travel time and travel distance\n",
        "travel_distances = []\n",
        "travel_durations = []\n",
        "travel_type = []\n",
        "# Iterate over rows to calculate distances and durations\n",
        "for i in range(len(food_trucks_to_visit_saturday) - 1):\n",
        "    origin = (food_trucks_to_visit_saturday['Latitude'][i], food_trucks_to_visit_saturday['Longitude'][i])\n",
        "    destination = (food_trucks_to_visit_saturday['Latitude'][i + 1], food_trucks_to_visit_saturday['Longitude'][i + 1])\n",
        "\n",
        "    distance, duration = get_distance_and_duration(origin, destination)\n",
        "    travel_distances.append(distance)\n",
        "    travel_durations.append(duration)\n",
        "    travel_type.append(\"Car\")\n",
        "\n",
        "# Add the calculated values as new columns in the DataFrame\n",
        "# We make sure to add distance and time calculations for starting point to first food truck as well\n",
        "food_trucks_to_visit_saturday['Travel Distance'] =firstElementDistance+ travel_distances\n",
        "food_trucks_to_visit_saturday['Travel Time'] = secondElementTime+travel_durations\n",
        "food_trucks_to_visit_saturday['Transportation Type'] = [\"Car\"]+travel_type"
      ],
      "metadata": {
        "id": "QAzjJttHoZro"
      },
      "execution_count": null,
      "outputs": []
    },
    {
      "cell_type": "markdown",
      "source": [
        "We have calculated the travel duration and distance for all food trucks that we go to on Saturday. Similarly, we calculate the two parameters for food trucks we visit on Sunday."
      ],
      "metadata": {
        "id": "W3IplJQDky1Z"
      }
    },
    {
      "cell_type": "code",
      "source": [
        "firstElementDistance = []\n",
        "secondElementTime = []\n",
        "destination1 = (food_trucks_to_visit_sunday['Latitude'][0], food_trucks_to_visit_sunday['Longitude'][0])\n",
        "distance, duration = get_distance_and_duration((latitude_start, longitude_start), destination1)\n",
        "firstElementDistance.append(distance)\n",
        "secondElementTime.append(duration)"
      ],
      "metadata": {
        "id": "m-IYFk16qVxx"
      },
      "execution_count": null,
      "outputs": []
    },
    {
      "cell_type": "code",
      "source": [
        "# Initialize empty lists for travel time and travel distance\n",
        "travel_distances = []\n",
        "travel_durations = []\n",
        "travel_type = []\n",
        "# Iterate over rows to calculate distances and durations\n",
        "for i in range(len(food_trucks_to_visit_sunday) - 1):\n",
        "    origin = (food_trucks_to_visit_sunday['Latitude'][i], food_trucks_to_visit_sunday['Longitude'][i])\n",
        "    destination = (food_trucks_to_visit_sunday['Latitude'][i + 1], food_trucks_to_visit_sunday['Longitude'][i + 1])\n",
        "\n",
        "    distance, duration = get_distance_and_duration(origin, destination)\n",
        "    travel_distances.append(distance)\n",
        "    travel_durations.append(duration)\n",
        "    travel_type.append(\"Car\")\n",
        "\n",
        "# Add the calculated values as new columns in the DataFrame\n",
        "food_trucks_to_visit_sunday['Travel Distance'] =firstElementDistance+ travel_distances\n",
        "food_trucks_to_visit_sunday['Travel Time'] = secondElementTime+travel_durations\n",
        "food_trucks_to_visit_sunday['Transportation Type'] = [\"Car\"]+travel_type\n"
      ],
      "metadata": {
        "id": "vQHz65nLBe5Q"
      },
      "execution_count": null,
      "outputs": []
    },
    {
      "cell_type": "markdown",
      "source": [
        "We have now calculated travel distance and duration for all food trucks we will visit on the weekend. Since there are three food trucks each day, with the meals breakfast, lunch and dinner being eaten each day, we add the time we will eat these meals to the dataframe."
      ],
      "metadata": {
        "id": "KpmeRSFNlGBr"
      }
    },
    {
      "cell_type": "code",
      "source": [
        "food_trucks_to_visit_saturday[\"Time\"] = [\"8:00 AM\", \"1:00 PM\", \"7:00 PM\"]\n",
        "food_trucks_to_visit_sunday[\"Time\"] = [\"8:00 AM\",  \"1:00 PM\", \"7:00 PM\"]\n",
        "final_plan = pd.concat([food_trucks_to_visit_saturday, food_trucks_to_visit_sunday], ignore_index=True)\n",
        "final_plan = final_plan[[\"Time\", \"Name\", \"Address\", \"Cuisine\", \"Travel Distance\", \"Travel Time\", \"Transportation Type\"]]"
      ],
      "metadata": {
        "id": "n-8bTn6WGXaX"
      },
      "execution_count": null,
      "outputs": []
    },
    {
      "cell_type": "markdown",
      "source": [
        "We combine the dataframes for Saturday and Sunday and then store it in a csv file"
      ],
      "metadata": {
        "id": "hvOE8aU3lt2z"
      }
    },
    {
      "cell_type": "code",
      "source": [
        "csv_file_path = \"final_plan.csv\"\n",
        "final_plan.to_csv(csv_file_path, index=False)\n",
        "\n",
        "print(f\"plane saved to {csv_file_path}\")"
      ],
      "metadata": {
        "colab": {
          "base_uri": "https://localhost:8080/"
        },
        "id": "rREXyGBXMTkH",
        "outputId": "ec7f0286-c2f3-4a88-9cfe-0e06943b66e7"
      },
      "execution_count": null,
      "outputs": [
        {
          "output_type": "stream",
          "name": "stdout",
          "text": [
            "plane saved to final_plan.csv\n"
          ]
        }
      ]
    },
    {
      "cell_type": "markdown",
      "source": [
        "**The final plan is stored in final_plan.csv**"
      ],
      "metadata": {
        "id": "kKUCZLZng-2D"
      }
    },
    {
      "cell_type": "markdown",
      "source": [
        "Path visualizations:\n",
        "Google Maps  \n",
        "- Saturday schedule : https://drive.google.com/file/d/1XxR7EsOWGKphZCPXaWX5qF4m7GRtgTei/view?usp=sharing\n",
        "\n",
        "- Sunday schedule : https://drive.google.com/file/d/14WRtTJTPo71IrS72R8qXzhp76gLouosM/view?usp=sharing\n"
      ],
      "metadata": {
        "id": "pGSJ7RNwey58"
      }
    },
    {
      "cell_type": "markdown",
      "source": [
        "In addition, we will also try to visualise these maps ourselves using python libraries."
      ],
      "metadata": {
        "id": "ZD_u2xt-3GW2"
      }
    },
    {
      "cell_type": "code",
      "source": [
        "def visualize_map(start_latitude, start_longitude, intermediate_latitude, intermediate_longitude, end_latitude, end_longitude,file_name):\n",
        "  # Define the start and end locations by latitude and longitude\n",
        "  start_location = (start_latitude, start_longitude)\n",
        "  end_location = (end_latitude, end_longitude)\n",
        "  intermediate_location = (intermediate_latitude, intermediate_longitude)\n",
        "\n",
        "  # Request directions from the start to the intermediate location\n",
        "  directions_to_intermediate = gmaps.directions(start_location, intermediate_location, mode=\"driving\", departure_time=datetime.now())\n",
        "\n",
        "  # Request directions from the intermediate location to the end\n",
        "  directions_from_intermediate = gmaps.directions(intermediate_location, end_location, mode=\"driving\", departure_time=datetime.now())\n",
        "\n",
        "  # Extract route details to the intermediate location\n",
        "  route_to_intermediate = directions_to_intermediate[0]['legs'][0]\n",
        "\n",
        "  # Extract route details from the intermediate location to the end\n",
        "  route_from_intermediate = directions_from_intermediate[0]['legs'][0]\n",
        "\n",
        "  # Add a marker for the intermediate location\n",
        "  gmap.marker(intermediate_latitude, intermediate_longitude, title=\"Intermediate Place\")\n",
        "\n",
        "  # Extract the route coordinates to the intermediate location\n",
        "  route_to_intermediate_coordinates = [(step['start_location']['lat'], step['start_location']['lng']) for step in route_to_intermediate['steps']]\n",
        "  route_to_intermediate_coordinates.append((intermediate_location[0], intermediate_location[1]))\n",
        "\n",
        "  # Extract the route coordinates from the intermediate location to the end\n",
        "  route_from_intermediate_coordinates = [(step['start_location']['lat'], step['start_location']['lng']) for step in route_from_intermediate['steps']]\n",
        "  route_from_intermediate_coordinates.append((end_location[0], end_location[1]))\n",
        "  # Plot the route to the intermediate location on the map\n",
        "  gmap.plot([coord[0] for coord in route_to_intermediate_coordinates], [coord[1] for coord in route_to_intermediate_coordinates], 'red', edge_width=5)\n",
        "\n",
        "  # Plot the route from the intermediate location to the end on the map\n",
        "  gmap.plot([coord[0] for coord in route_from_intermediate_coordinates], [coord[1] for coord in route_from_intermediate_coordinates], 'green', edge_width=5)\n",
        "\n",
        "  # Save the updated map as an HTML file\n",
        "  gmap.draw(file_name)\n"
      ],
      "metadata": {
        "id": "qgOJPMdtzBtM"
      },
      "execution_count": null,
      "outputs": []
    },
    {
      "cell_type": "markdown",
      "source": [
        "Function to visualize a map given the coordinates of three locations."
      ],
      "metadata": {
        "id": "NiYs9OW12kQO"
      }
    },
    {
      "cell_type": "code",
      "source": [
        "visualize_map(food_trucks_to_visit_saturday['Latitude'][0],\n",
        "              food_trucks_to_visit_saturday['Longitude'][0],\n",
        "              food_trucks_to_visit_saturday['Latitude'][1],\n",
        "              food_trucks_to_visit_saturday['Longitude'][1],\n",
        "              food_trucks_to_visit_saturday['Latitude'][2],\n",
        "              food_trucks_to_visit_saturday['Longitude'][2],\n",
        "              \"Saturday_map_visualiszed.html\")\n"
      ],
      "metadata": {
        "id": "qz4MafTprGwa"
      },
      "execution_count": null,
      "outputs": []
    },
    {
      "cell_type": "markdown",
      "source": [
        "**Saturday_map_visualized.html stores the travel map for Saturday**"
      ],
      "metadata": {
        "id": "jCbBJTzT2sGA"
      }
    },
    {
      "cell_type": "code",
      "source": [
        "visualize_map(food_trucks_to_visit_sunday['Latitude'][0],\n",
        "              food_trucks_to_visit_sunday['Longitude'][0],\n",
        "              food_trucks_to_visit_sunday['Latitude'][1],\n",
        "              food_trucks_to_visit_sunday['Longitude'][1],\n",
        "              food_trucks_to_visit_sunday['Latitude'][2],\n",
        "              food_trucks_to_visit_sunday['Longitude'][2],\n",
        "              \"Sunday_map_visualized.html\")"
      ],
      "metadata": {
        "id": "cXZHur_nzhTv"
      },
      "execution_count": null,
      "outputs": []
    },
    {
      "cell_type": "markdown",
      "source": [
        "**Sunday_map_visualized.html stores the travel map for Sunday**"
      ],
      "metadata": {
        "id": "g7wJQWdg22KU"
      }
    },
    {
      "cell_type": "markdown",
      "source": [
        "We were able to try out 6 different cuisines in 6 meals spread out over 2 days, taking into account the open hours of each food truck, their rating, their proximity and convenience of travel, while calculating the distance actually travelled and time taken for each trip"
      ],
      "metadata": {
        "id": "szja7FEQ3Zyr"
      }
    },
    {
      "cell_type": "markdown",
      "source": [
        "We were also able to create an algorithm to take into account the features we discussed above and filter through a large dataset to get the best food truck options. After filtering, we were left with distinct cuisine choices and we picked food trucks according to our own preferences. Deciding after filtering is definitely faster than trying to select in the beginning."
      ],
      "metadata": {
        "id": "W64Veznh4Tk-"
      }
    },
    {
      "cell_type": "markdown",
      "source": [
        "We then visualized the travel path on a map for both days, including all the food trucks we intended to go to for the day each time."
      ],
      "metadata": {
        "id": "I13A2mT85BRn"
      }
    },
    {
      "cell_type": "markdown",
      "source": [
        "All in all, making use of the following data analysis techniques:\n",
        "- Extracting and cleaning data\n",
        "- Exploratory data analysis\n",
        "  - Bar Graphs\n",
        "  - Location visualizations\n",
        "- Filtering and optimization\n",
        "- Path Map visualization\n",
        "\n",
        "We were able to formulate an optimal plan for a fun foodie weekend for all the Xterns to go explore different food trucks!"
      ],
      "metadata": {
        "id": "wMAsprwp5BZe"
      }
    }
  ]
}